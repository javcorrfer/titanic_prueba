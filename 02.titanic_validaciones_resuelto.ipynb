{
 "cells": [
  {
   "cell_type": "markdown",
   "id": "c5d1b38b-d5f2-4535-811b-662d6d52ea04",
   "metadata": {},
   "source": [
    "# Ejercicio\n",
    "- Con el dataset del titanic:\n",
    "    - Haz un EDA de los datos\n",
    "    - Crea algunas columnas nuevas que creas que pueden ser interesantes\n",
    "    - Separa los datos en features y target\n",
    "    - Separa los datos en train y test\n",
    "    - Haz un preprocesado de los datos\n",
    "        - Trata los NaNs\n",
    "        - Trata los outliers\n",
    "        - Codifica las variables categóricas\n",
    "        - Realiza transformaciones que consideres interesantes\n",
    "        - Escala los datos\n",
    "    - En un bucle `for` entrena todos los modelos de clasificación que conoces y encuentra cuál es el mejor.\n",
    "    - Valida las métricas del mejor modelo mediante las técnicas **Hold Out**, **K Folds** y **Leave One Out**."
   ]
  },
  {
   "cell_type": "code",
   "execution_count": 2,
   "id": "99fea956-751b-44d2-bb76-4ba7ff7aa900",
   "metadata": {},
   "outputs": [
    {
     "data": {
      "text/html": [
       "<div>\n",
       "<style scoped>\n",
       "    .dataframe tbody tr th:only-of-type {\n",
       "        vertical-align: middle;\n",
       "    }\n",
       "\n",
       "    .dataframe tbody tr th {\n",
       "        vertical-align: top;\n",
       "    }\n",
       "\n",
       "    .dataframe thead th {\n",
       "        text-align: right;\n",
       "    }\n",
       "</style>\n",
       "<table border=\"1\" class=\"dataframe\">\n",
       "  <thead>\n",
       "    <tr style=\"text-align: right;\">\n",
       "      <th></th>\n",
       "      <th>PassengerId</th>\n",
       "      <th>Name</th>\n",
       "      <th>Sex</th>\n",
       "      <th>Age</th>\n",
       "      <th>Pclass</th>\n",
       "      <th>Ticket</th>\n",
       "      <th>Fare</th>\n",
       "      <th>Sibsp</th>\n",
       "      <th>Parch</th>\n",
       "      <th>Embarked</th>\n",
       "      <th>Embark_Town</th>\n",
       "      <th>Survived</th>\n",
       "    </tr>\n",
       "  </thead>\n",
       "  <tbody>\n",
       "    <tr>\n",
       "      <th>0</th>\n",
       "      <td>1</td>\n",
       "      <td>Braund, Mr. Owen Harris</td>\n",
       "      <td>male</td>\n",
       "      <td>22.0</td>\n",
       "      <td>3</td>\n",
       "      <td>A/5 21171</td>\n",
       "      <td>7.2500</td>\n",
       "      <td>1</td>\n",
       "      <td>0</td>\n",
       "      <td>C</td>\n",
       "      <td>Cherbourg</td>\n",
       "      <td>0</td>\n",
       "    </tr>\n",
       "    <tr>\n",
       "      <th>1</th>\n",
       "      <td>2</td>\n",
       "      <td>Cumings, Mrs. John Bradley (Florence Briggs Th...</td>\n",
       "      <td>female</td>\n",
       "      <td>38.0</td>\n",
       "      <td>1</td>\n",
       "      <td>PC 17599</td>\n",
       "      <td>71.2833</td>\n",
       "      <td>0</td>\n",
       "      <td>0</td>\n",
       "      <td>S</td>\n",
       "      <td>Southampton</td>\n",
       "      <td>1</td>\n",
       "    </tr>\n",
       "    <tr>\n",
       "      <th>2</th>\n",
       "      <td>3</td>\n",
       "      <td>Heikkinen, Miss. Laina</td>\n",
       "      <td>female</td>\n",
       "      <td>26.0</td>\n",
       "      <td>3</td>\n",
       "      <td>STON/O2. 3101282</td>\n",
       "      <td>7.9250</td>\n",
       "      <td>1</td>\n",
       "      <td>0</td>\n",
       "      <td>S</td>\n",
       "      <td>Southampton</td>\n",
       "      <td>1</td>\n",
       "    </tr>\n",
       "    <tr>\n",
       "      <th>3</th>\n",
       "      <td>4</td>\n",
       "      <td>Futrelle, Mrs. Jacques Heath (Lily May Peel)</td>\n",
       "      <td>female</td>\n",
       "      <td>35.0</td>\n",
       "      <td>1</td>\n",
       "      <td>113803</td>\n",
       "      <td>53.1000</td>\n",
       "      <td>0</td>\n",
       "      <td>0</td>\n",
       "      <td>S</td>\n",
       "      <td>Southampton</td>\n",
       "      <td>1</td>\n",
       "    </tr>\n",
       "    <tr>\n",
       "      <th>4</th>\n",
       "      <td>5</td>\n",
       "      <td>Allen, Mr. William Henry</td>\n",
       "      <td>male</td>\n",
       "      <td>35.0</td>\n",
       "      <td>3</td>\n",
       "      <td>373450</td>\n",
       "      <td>8.0500</td>\n",
       "      <td>0</td>\n",
       "      <td>0</td>\n",
       "      <td>Q</td>\n",
       "      <td>Queenstown</td>\n",
       "      <td>0</td>\n",
       "    </tr>\n",
       "    <tr>\n",
       "      <th>...</th>\n",
       "      <td>...</td>\n",
       "      <td>...</td>\n",
       "      <td>...</td>\n",
       "      <td>...</td>\n",
       "      <td>...</td>\n",
       "      <td>...</td>\n",
       "      <td>...</td>\n",
       "      <td>...</td>\n",
       "      <td>...</td>\n",
       "      <td>...</td>\n",
       "      <td>...</td>\n",
       "      <td>...</td>\n",
       "    </tr>\n",
       "    <tr>\n",
       "      <th>885</th>\n",
       "      <td>886</td>\n",
       "      <td>Rice, Mrs. William (Margaret Norton)</td>\n",
       "      <td>female</td>\n",
       "      <td>39.0</td>\n",
       "      <td>3</td>\n",
       "      <td>382652</td>\n",
       "      <td>29.1250</td>\n",
       "      <td>0</td>\n",
       "      <td>0</td>\n",
       "      <td>S</td>\n",
       "      <td>Southampton</td>\n",
       "      <td>0</td>\n",
       "    </tr>\n",
       "    <tr>\n",
       "      <th>886</th>\n",
       "      <td>887</td>\n",
       "      <td>Montvila, Rev. Juozas</td>\n",
       "      <td>male</td>\n",
       "      <td>27.0</td>\n",
       "      <td>2</td>\n",
       "      <td>211536</td>\n",
       "      <td>13.0000</td>\n",
       "      <td>0</td>\n",
       "      <td>0</td>\n",
       "      <td>S</td>\n",
       "      <td>Southampton</td>\n",
       "      <td>0</td>\n",
       "    </tr>\n",
       "    <tr>\n",
       "      <th>887</th>\n",
       "      <td>888</td>\n",
       "      <td>Graham, Miss. Margaret Edith</td>\n",
       "      <td>female</td>\n",
       "      <td>19.0</td>\n",
       "      <td>1</td>\n",
       "      <td>112053</td>\n",
       "      <td>30.0000</td>\n",
       "      <td>1</td>\n",
       "      <td>2</td>\n",
       "      <td>S</td>\n",
       "      <td>Southampton</td>\n",
       "      <td>1</td>\n",
       "    </tr>\n",
       "    <tr>\n",
       "      <th>888</th>\n",
       "      <td>889</td>\n",
       "      <td>Johnston, Miss. Catherine Helen \"Carrie\"</td>\n",
       "      <td>female</td>\n",
       "      <td>NaN</td>\n",
       "      <td>3</td>\n",
       "      <td>W./C. 6607</td>\n",
       "      <td>23.4500</td>\n",
       "      <td>0</td>\n",
       "      <td>0</td>\n",
       "      <td>C</td>\n",
       "      <td>Cherbourg</td>\n",
       "      <td>0</td>\n",
       "    </tr>\n",
       "    <tr>\n",
       "      <th>889</th>\n",
       "      <td>890</td>\n",
       "      <td>Behr, Mr. Karl Howell</td>\n",
       "      <td>male</td>\n",
       "      <td>26.0</td>\n",
       "      <td>1</td>\n",
       "      <td>111369</td>\n",
       "      <td>30.0000</td>\n",
       "      <td>0</td>\n",
       "      <td>0</td>\n",
       "      <td>Q</td>\n",
       "      <td>Queenstown</td>\n",
       "      <td>1</td>\n",
       "    </tr>\n",
       "  </tbody>\n",
       "</table>\n",
       "<p>890 rows × 12 columns</p>\n",
       "</div>"
      ],
      "text/plain": [
       "     PassengerId                                               Name     Sex  \\\n",
       "0              1                            Braund, Mr. Owen Harris    male   \n",
       "1              2  Cumings, Mrs. John Bradley (Florence Briggs Th...  female   \n",
       "2              3                             Heikkinen, Miss. Laina  female   \n",
       "3              4       Futrelle, Mrs. Jacques Heath (Lily May Peel)  female   \n",
       "4              5                           Allen, Mr. William Henry    male   \n",
       "..           ...                                                ...     ...   \n",
       "885          886               Rice, Mrs. William (Margaret Norton)  female   \n",
       "886          887                              Montvila, Rev. Juozas    male   \n",
       "887          888                       Graham, Miss. Margaret Edith  female   \n",
       "888          889           Johnston, Miss. Catherine Helen \"Carrie\"  female   \n",
       "889          890                              Behr, Mr. Karl Howell    male   \n",
       "\n",
       "      Age  Pclass            Ticket     Fare  Sibsp  Parch Embarked  \\\n",
       "0    22.0       3         A/5 21171   7.2500      1      0        C   \n",
       "1    38.0       1          PC 17599  71.2833      0      0        S   \n",
       "2    26.0       3  STON/O2. 3101282   7.9250      1      0        S   \n",
       "3    35.0       1            113803  53.1000      0      0        S   \n",
       "4    35.0       3            373450   8.0500      0      0        Q   \n",
       "..    ...     ...               ...      ...    ...    ...      ...   \n",
       "885  39.0       3            382652  29.1250      0      0        S   \n",
       "886  27.0       2            211536  13.0000      0      0        S   \n",
       "887  19.0       1            112053  30.0000      1      2        S   \n",
       "888   NaN       3        W./C. 6607  23.4500      0      0        C   \n",
       "889  26.0       1            111369  30.0000      0      0        Q   \n",
       "\n",
       "     Embark_Town  Survived  \n",
       "0      Cherbourg         0  \n",
       "1    Southampton         1  \n",
       "2    Southampton         1  \n",
       "3    Southampton         1  \n",
       "4     Queenstown         0  \n",
       "..           ...       ...  \n",
       "885  Southampton         0  \n",
       "886  Southampton         0  \n",
       "887  Southampton         1  \n",
       "888    Cherbourg         0  \n",
       "889   Queenstown         1  \n",
       "\n",
       "[890 rows x 12 columns]"
      ]
     },
     "execution_count": 2,
     "metadata": {},
     "output_type": "execute_result"
    }
   ],
   "source": [
    "import pandas as pd\n",
    "\n",
    "df = pd.read_csv(\"titanic.csv\")\n",
    "df"
   ]
  },
  {
   "cell_type": "markdown",
   "id": "b9c04e0a-8b0f-4d4a-9c1e-692dd9dcbf51",
   "metadata": {},
   "source": [
    "## EDA y limpieza"
   ]
  },
  {
   "cell_type": "code",
   "execution_count": 3,
   "id": "73c91e27-5747-4776-a752-6cb8a5696b09",
   "metadata": {},
   "outputs": [
    {
     "name": "stdout",
     "output_type": "stream",
     "text": [
      "<class 'pandas.core.frame.DataFrame'>\n",
      "RangeIndex: 890 entries, 0 to 889\n",
      "Data columns (total 12 columns):\n",
      " #   Column       Non-Null Count  Dtype  \n",
      "---  ------       --------------  -----  \n",
      " 0   PassengerId  890 non-null    int64  \n",
      " 1   Name         890 non-null    object \n",
      " 2   Sex          890 non-null    object \n",
      " 3   Age          713 non-null    float64\n",
      " 4   Pclass       890 non-null    int64  \n",
      " 5   Ticket       890 non-null    object \n",
      " 6   Fare         890 non-null    float64\n",
      " 7   Sibsp        890 non-null    int64  \n",
      " 8   Parch        890 non-null    int64  \n",
      " 9   Embarked     888 non-null    object \n",
      " 10  Embark_Town  888 non-null    object \n",
      " 11  Survived     890 non-null    int64  \n",
      "dtypes: float64(2), int64(5), object(5)\n",
      "memory usage: 83.6+ KB\n"
     ]
    }
   ],
   "source": [
    "df.info()"
   ]
  },
  {
   "cell_type": "code",
   "execution_count": null,
   "id": "9484675b-01bd-47fe-9e06-444d76a409a7",
   "metadata": {},
   "outputs": [],
   "source": [
    "import matplotlib.pyplot as plt\n",
    "import seaborn as sns\n",
    "\n",
    "TARGET = \"Survived\"\n",
    "RANDOM_STATE = 43\n",
    "\n",
    "plt.figure(figsize=(8,4))\n",
    "\n",
    "sns.barplot(df[TARGET].value_counts())\n",
    "\n",
    "plt.show()"
   ]
  },
  {
   "cell_type": "code",
   "execution_count": null,
   "id": "16bf2917",
   "metadata": {},
   "outputs": [],
   "source": [
    "TARGET = \"Survived\"\n",
    "RANDOM_STATE = 43"
   ]
  },
  {
   "cell_type": "code",
   "execution_count": null,
   "id": "c433c73b-831d-49fd-9851-b910e8f2c4d2",
   "metadata": {},
   "outputs": [],
   "source": [
    "fig, ax = plt.subplots(1, 2, figsize=(16,4))\n",
    "\n",
    "sns.barplot(df[\"Sex\"].value_counts(), ax=ax[0])\n",
    "sns.barplot(df.groupby([\"Sex\", TARGET]).count(), x=\"Sex\", y = \"PassengerId\", hue=TARGET, ax=ax[1])\n",
    "\n",
    "plt.show()"
   ]
  },
  {
   "cell_type": "code",
   "execution_count": null,
   "id": "fdb62b2f-3f97-4458-817a-ea2a1eacddec",
   "metadata": {},
   "outputs": [],
   "source": [
    "fig, ax = plt.subplots(1, 2, figsize=(16,4))\n",
    "\n",
    "sns.barplot(df[\"Pclass\"].value_counts(), ax=ax[0])\n",
    "sns.barplot(df.groupby([\"Pclass\", TARGET]).count(), x=\"Pclass\", y = \"PassengerId\", hue=TARGET, ax=ax[1])\n",
    "\n",
    "plt.show()"
   ]
  },
  {
   "cell_type": "code",
   "execution_count": null,
   "id": "e525d5d9-6b40-4a1e-ac98-bdc3290c0de9",
   "metadata": {},
   "outputs": [],
   "source": [
    "fig, ax = plt.subplots(1, 2, figsize=(16,4))\n",
    "\n",
    "sns.barplot(df[\"Sibsp\"].value_counts(), ax=ax[0])\n",
    "sns.barplot(df.groupby([\"Sibsp\", TARGET]).count(), x=\"Sibsp\", y = \"PassengerId\", hue=TARGET, ax=ax[1])\n",
    "\n",
    "plt.show()"
   ]
  },
  {
   "cell_type": "code",
   "execution_count": null,
   "id": "bfd6591c-03d8-4640-82d1-dfa14212e32c",
   "metadata": {},
   "outputs": [],
   "source": [
    "fig, ax = plt.subplots(1, 2, figsize=(16,4))\n",
    "\n",
    "sns.barplot(df[\"Parch\"].value_counts(), ax=ax[0])\n",
    "sns.barplot(df.groupby([\"Parch\", TARGET]).count(), x=\"Parch\", y = \"PassengerId\", hue=TARGET, ax=ax[1])\n",
    "\n",
    "plt.show()"
   ]
  },
  {
   "cell_type": "code",
   "execution_count": null,
   "id": "2eb98711-ec3d-4367-a2ba-c009596b8fe0",
   "metadata": {},
   "outputs": [],
   "source": [
    "fig, ax = plt.subplots(1, 2, figsize=(16,4))\n",
    "\n",
    "sns.barplot(df[\"Embarked\"].value_counts(), ax=ax[0])\n",
    "sns.barplot(df.groupby([\"Embarked\", TARGET]).count(), x=\"Embarked\", y = \"PassengerId\", hue=TARGET, ax=ax[1])\n",
    "\n",
    "plt.show()"
   ]
  },
  {
   "cell_type": "code",
   "execution_count": null,
   "id": "399f6d66-eb08-4d00-8993-f9311e8c2ca6",
   "metadata": {},
   "outputs": [],
   "source": [
    "fig, ax = plt.subplots(1, 2, figsize=(16,4))\n",
    "\n",
    "sns.barplot(df[\"Embark_Town\"].value_counts(), ax=ax[0])\n",
    "sns.barplot(df.groupby([\"Embark_Town\", TARGET]).count(), x=\"Embark_Town\", y = \"PassengerId\", hue=TARGET, ax=ax[1])\n",
    "\n",
    "plt.show()"
   ]
  },
  {
   "cell_type": "code",
   "execution_count": null,
   "id": "1c667d3f-7c6b-44c7-908e-a57b75e0dd1e",
   "metadata": {},
   "outputs": [],
   "source": [
    "df = df.drop([\"Embark_Town\"], axis=1)\n",
    "df.head(3)"
   ]
  },
  {
   "cell_type": "code",
   "execution_count": 11,
   "id": "a8e98eee-4e00-46e8-8b91-b410c2b9ab39",
   "metadata": {},
   "outputs": [],
   "source": [
    "# Un poco de Feature Engeneering\n",
    "\n",
    "def extraer_apodo(string):\n",
    "    return string.split(\",\")[1].split(\".\")[0]\n",
    "\n",
    "df[\"Title\"] = df[\"Name\"].apply(extraer_apodo)"
   ]
  },
  {
   "cell_type": "code",
   "execution_count": null,
   "id": "cba4cc1b-f9a0-47fc-8960-5a6c24fa18b8",
   "metadata": {},
   "outputs": [],
   "source": [
    "fig, ax = plt.subplots(1, 2, figsize=(16,4))\n",
    "\n",
    "sns.barplot(df[\"Title\"].value_counts(), ax=ax[0])\n",
    "sns.barplot(df.groupby([\"Title\", TARGET]).count(), x=\"Title\", y = \"PassengerId\", hue=TARGET, ax=ax[1])\n",
    "\n",
    "ax[0].set_xticklabels(rotation=45, ha=\"right\", labels=ax[0].get_xticklabels())\n",
    "ax[1].set_xticklabels(rotation=45, ha=\"right\", labels=ax[1].get_xticklabels())\n",
    "\n",
    "plt.show()"
   ]
  },
  {
   "cell_type": "code",
   "execution_count": null,
   "id": "59179f4a-ad61-4a03-8ada-222cac5453b3",
   "metadata": {},
   "outputs": [],
   "source": [
    "df = df.drop([\"Name\", \"PassengerId\", \"Ticket\"], axis=1)\n",
    "df.head(3)"
   ]
  },
  {
   "cell_type": "code",
   "execution_count": null,
   "id": "d2bcad58-5c86-4c84-a57b-ef4a16c10e54",
   "metadata": {},
   "outputs": [],
   "source": [
    "fig, ax = plt.subplots(1, 2, figsize=(16,4))\n",
    "\n",
    "sns.histplot(df[\"Age\"], ax=ax[0])\n",
    "sns.boxplot(df, x=TARGET, y = \"Age\", hue=TARGET, ax=ax[1])\n",
    "\n",
    "plt.show()"
   ]
  },
  {
   "cell_type": "code",
   "execution_count": null,
   "id": "faf16d84-8865-4bb8-a8ee-d5a2e18c0203",
   "metadata": {},
   "outputs": [],
   "source": [
    "fig, ax = plt.subplots(1, 2, figsize=(16,4))\n",
    "\n",
    "sns.histplot(df[\"Fare\"], ax=ax[0])\n",
    "sns.boxplot(df, x=TARGET, y = \"Fare\", hue=TARGET, ax=ax[1])\n",
    "\n",
    "plt.show()"
   ]
  },
  {
   "cell_type": "code",
   "execution_count": null,
   "id": "148ddc0e-9dca-42d8-aa70-a245347cac9d",
   "metadata": {},
   "outputs": [],
   "source": [
    "import numpy as np\n",
    "\n",
    "fig, ax = plt.subplots(1, 2, figsize=(16,4))\n",
    "\n",
    "df_log = df.copy()\n",
    "df_log[\"Fare\"] = df_log[\"Fare\"].apply(np.log)\n",
    "\n",
    "sns.histplot(df_log[\"Fare\"], ax=ax[0])\n",
    "sns.boxplot(df_log, x=TARGET, y = \"Fare\", hue=TARGET, ax=ax[1])\n",
    "\n",
    "plt.show()"
   ]
  },
  {
   "cell_type": "code",
   "execution_count": 17,
   "id": "faeaf18f-ec66-4f67-a806-4280b4451a42",
   "metadata": {},
   "outputs": [],
   "source": [
    "df[\"Fare\"] = df[\"Fare\"].apply(lambda x: np.log(x) if x != 0 else np.log(x+1e-8))"
   ]
  },
  {
   "cell_type": "code",
   "execution_count": null,
   "id": "c04a2c60-698b-41b6-b78b-b0ea93aaca3e",
   "metadata": {},
   "outputs": [],
   "source": [
    "# DF limpio\n",
    "\n",
    "df.head()"
   ]
  },
  {
   "cell_type": "markdown",
   "id": "80a927fe-c615-46ba-b693-5c590f0d85c0",
   "metadata": {},
   "source": [
    "## Preprocesamiento"
   ]
  },
  {
   "cell_type": "code",
   "execution_count": null,
   "id": "9849f3b7-52eb-4d7c-b901-74fbf81b5910",
   "metadata": {},
   "outputs": [],
   "source": [
    "from sklearn.model_selection import train_test_split\n",
    "\n",
    "X = df.drop(TARGET, axis=1)\n",
    "y = df[TARGET]\n",
    "\n",
    "X_train, X_test, y_train, y_test = train_test_split(X, y, test_size=.2, random_state=RANDOM_STATE)\n",
    "X_train.shape, y_train.shape"
   ]
  },
  {
   "cell_type": "code",
   "execution_count": 20,
   "id": "226fe7ab-1c73-4bbd-bd31-d08879de8584",
   "metadata": {},
   "outputs": [],
   "source": [
    "encodings_sex = {\"male\" : 0, \"female\" : 1}\n",
    "encodings_embarked = {\"S\" : 0, \"Q\" : 1, \"C\" : 2}\n",
    "\n",
    "X_train[\"Sex\"] = X_train[\"Sex\"].map(encodings_sex)\n",
    "X_test[\"Sex\"] = X_test[\"Sex\"].map(encodings_sex)\n",
    "\n",
    "X_train[\"Embarked\"] = X_train[\"Embarked\"].map(encodings_embarked)\n",
    "X_test[\"Embarked\"] = X_test[\"Embarked\"].map(encodings_embarked)"
   ]
  },
  {
   "cell_type": "code",
   "execution_count": 21,
   "id": "d62353e0-6ca5-4607-90ba-b81bb767d7e3",
   "metadata": {},
   "outputs": [],
   "source": [
    "encodings_title = X_train[\"Title\"].value_counts().to_dict()\n",
    "\n",
    "X_train[\"Title\"] = X_train[\"Title\"].map(encodings_title)\n",
    "X_test[\"Title\"] = X_test[\"Title\"].map(encodings_title)"
   ]
  },
  {
   "cell_type": "code",
   "execution_count": null,
   "id": "3a236c4b-3970-46a7-8c20-081319c4e0b3",
   "metadata": {},
   "outputs": [],
   "source": [
    "X_train.head()"
   ]
  },
  {
   "cell_type": "code",
   "execution_count": 23,
   "id": "7b1b5907-9107-4968-82c4-58380a9f4485",
   "metadata": {},
   "outputs": [],
   "source": [
    "from sklearn.impute import KNNImputer\n",
    "\n",
    "imputer = KNNImputer(n_neighbors=10)\n",
    "imputer.fit(X_train)\n",
    "\n",
    "X_train = imputer.transform(X_train)\n",
    "X_test = imputer.transform(X_test)"
   ]
  },
  {
   "cell_type": "markdown",
   "id": "a948bc99-a829-4881-a441-ac8d498c3902",
   "metadata": {},
   "source": [
    "## Modelo"
   ]
  },
  {
   "cell_type": "code",
   "execution_count": 24,
   "id": "5d4f91b8-66bf-4655-8daf-6a454daf9bd8",
   "metadata": {},
   "outputs": [],
   "source": [
    "from sklearn.neighbors import KNeighborsClassifier\n",
    "\n",
    "model = KNeighborsClassifier(n_neighbors=10)\n",
    "\n",
    "model.fit(X_train, y_train)\n",
    "\n",
    "yhat = model.predict(X_test)"
   ]
  },
  {
   "cell_type": "code",
   "execution_count": null,
   "id": "8de5732e-06a9-4c5c-847d-b64afb7f1446",
   "metadata": {},
   "outputs": [],
   "source": [
    "from sklearn.metrics import accuracy_score, confusion_matrix\n",
    "\n",
    "print(f\"Accuracy: {accuracy_score(y_test, yhat)}\")\n",
    "print(f\"Confusion Matrix:\\n{confusion_matrix(y_test, yhat)}\")"
   ]
  },
  {
   "cell_type": "markdown",
   "id": "73afe121-748d-4a37-9704-5e1f8f9bc648",
   "metadata": {},
   "source": [
    "## Validación"
   ]
  },
  {
   "cell_type": "code",
   "execution_count": null,
   "id": "055960ca-8ce0-4bdc-81ec-6afb0f179367",
   "metadata": {},
   "outputs": [],
   "source": [
    "from sklearn.model_selection import KFold\n",
    "\n",
    "kfold = KFold(n_splits=5)\n",
    "\n",
    "yhat = []\n",
    "\n",
    "for train_slice, test_slice in kfold.split(df):\n",
    "\n",
    "    X_train, y_train = X.iloc[train_slice], y.iloc[train_slice]\n",
    "    X_test, y_test = X.iloc[test_slice], y.iloc[test_slice]\n",
    "\n",
    "    # Preprocesado\n",
    "    encodings_sex = {\"male\" : 0, \"female\" : 1}\n",
    "    encodings_embarked = {\"S\" : 0, \"Q\" : 1, \"C\" : 2}\n",
    "    \n",
    "    X_train[\"Sex\"] = X_train[\"Sex\"].map(encodings_sex)\n",
    "    X_test[\"Sex\"] = X_test[\"Sex\"].map(encodings_sex)\n",
    "    \n",
    "    X_train[\"Embarked\"] = X_train[\"Embarked\"].map(encodings_embarked)\n",
    "    X_test[\"Embarked\"] = X_test[\"Embarked\"].map(encodings_embarked)\n",
    "\n",
    "    \n",
    "    encodings_title = X_train[\"Title\"].value_counts().to_dict()\n",
    "\n",
    "    X_train[\"Title\"] = X_train[\"Title\"].map(encodings_title)\n",
    "    X_test[\"Title\"] = X_test[\"Title\"].map(encodings_title)\n",
    "\n",
    "    \n",
    "    imputer = KNNImputer(n_neighbors=10)\n",
    "    imputer.fit(X_train)\n",
    "    \n",
    "    X_train = imputer.transform(X_train)\n",
    "    X_test = imputer.transform(X_test)\n",
    "\n",
    "    \n",
    "    # Modelo\n",
    "    model = KNeighborsClassifier(n_neighbors=10)\n",
    "    \n",
    "    model.fit(X_train, y_train)\n",
    "    yhat_ = model.predict(X_test)\n",
    "    yhat.extend(yhat_)\n",
    "\n",
    "print(f\"Accuracy: {accuracy_score(y, yhat)}\")\n",
    "print(f\"Confusion Matrix:\\n{confusion_matrix(y, yhat)}\")"
   ]
  },
  {
   "cell_type": "code",
   "execution_count": null,
   "id": "c3da690f-0cf3-41c3-b1b4-3048beef6060",
   "metadata": {},
   "outputs": [],
   "source": []
  }
 ],
 "metadata": {
  "kernelspec": {
   "display_name": "venv",
   "language": "python",
   "name": "python3"
  },
  "language_info": {
   "codemirror_mode": {
    "name": "ipython",
    "version": 3
   },
   "file_extension": ".py",
   "mimetype": "text/x-python",
   "name": "python",
   "nbconvert_exporter": "python",
   "pygments_lexer": "ipython3",
   "version": "3.9.2"
  }
 },
 "nbformat": 4,
 "nbformat_minor": 5
}
